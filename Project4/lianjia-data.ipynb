{
 "cells": [
  {
   "cell_type": "markdown",
   "metadata": {},
   "source": [
    "### Import Packages"
   ]
  },
  {
   "cell_type": "markdown",
   "metadata": {},
   "source": [
    "##### 03/19/2018: revise the AreaNew information for villas, lianjia_data_clean_v01.xlsx"
   ]
  },
  {
   "cell_type": "code",
   "execution_count": 2,
   "metadata": {},
   "outputs": [],
   "source": [
    "import pandas as pd\n",
    "import time\n",
    "import openpyxl"
   ]
  },
  {
   "cell_type": "markdown",
   "metadata": {},
   "source": [
    "### Gather Data \n",
    "Actually this dataset is collected by https://zhuanlan.zhihu.com/p/25132058. The data was gathered around 2017-02-08 00:30. Therefore, for this project, we have no gathering data part. Next time, will collect the data by myself and gather what i focus on."
   ]
  },
  {
   "cell_type": "code",
   "execution_count": 3,
   "metadata": {},
   "outputs": [],
   "source": [
    "lianjia_data = pd.read_excel('lianjia-data.xlsx')"
   ]
  },
  {
   "cell_type": "code",
   "execution_count": 4,
   "metadata": {},
   "outputs": [],
   "source": [
    "lianjia_data_clean = lianjia_data.copy()"
   ]
  },
  {
   "cell_type": "markdown",
   "metadata": {},
   "source": [
    "### Assess Data\n",
    "\n",
    "#### Tidiness\n",
    "1, split LatitudeLongitude to Latitude and Longitude to columns\n",
    "\n",
    "#### Quality \n",
    "1, type for 'Area', 'Followers', 'TimesWatched', 'UnitPricePerMeter' should be number, int or floate. Should create the corresponding new variables for each of them. in order to do this, we have to extract the digit number and then change its type to float. Delete the original columns\n",
    "\n",
    "2, 'ReleaseTime' change the same unit 'month'\n",
    "\n",
    "3, change 'CityArea', 'Community', 'HouseType' to category. 'ReleaseTime' change to category\n",
    " , delete the space character in house type.\n",
    " \n",
    "4, there's car parking place data in the excel, remove all this kind of information. \n",
    "\n",
    "5, revise the AreaNew information for villas"
   ]
  },
  {
   "cell_type": "code",
   "execution_count": 5,
   "metadata": {},
   "outputs": [
    {
     "name": "stdout",
     "output_type": "stream",
     "text": [
      "<class 'pandas.core.frame.DataFrame'>\n",
      "RangeIndex: 23440 entries, 0 to 23439\n",
      "Data columns (total 12 columns):\n",
      "SimpleDescription    23440 non-null object\n",
      "Community            23440 non-null object\n",
      "HouseType            23440 non-null object\n",
      "Area                 23440 non-null object\n",
      "Followers            23440 non-null object\n",
      "TimesWatched         23440 non-null object\n",
      "ReleaseTime          23440 non-null object\n",
      "HousePrice           23440 non-null float64\n",
      "UnitPricePerMeter    23440 non-null object\n",
      "Link                 23440 non-null object\n",
      "CityArea             23440 non-null object\n",
      "LatitudeLongitude    23440 non-null object\n",
      "dtypes: float64(1), object(11)\n",
      "memory usage: 2.1+ MB\n"
     ]
    }
   ],
   "source": [
    "lianjia_data_clean.info()\n",
    "# all not-null data. "
   ]
  },
  {
   "cell_type": "code",
   "execution_count": 6,
   "metadata": {},
   "outputs": [
    {
     "data": {
      "text/html": [
       "<div>\n",
       "<style scoped>\n",
       "    .dataframe tbody tr th:only-of-type {\n",
       "        vertical-align: middle;\n",
       "    }\n",
       "\n",
       "    .dataframe tbody tr th {\n",
       "        vertical-align: top;\n",
       "    }\n",
       "\n",
       "    .dataframe thead th {\n",
       "        text-align: right;\n",
       "    }\n",
       "</style>\n",
       "<table border=\"1\" class=\"dataframe\">\n",
       "  <thead>\n",
       "    <tr style=\"text-align: right;\">\n",
       "      <th></th>\n",
       "      <th>SimpleDescription</th>\n",
       "      <th>Community</th>\n",
       "      <th>HouseType</th>\n",
       "      <th>Area</th>\n",
       "      <th>Followers</th>\n",
       "      <th>TimesWatched</th>\n",
       "      <th>ReleaseTime</th>\n",
       "      <th>HousePrice</th>\n",
       "      <th>UnitPricePerMeter</th>\n",
       "      <th>Link</th>\n",
       "      <th>CityArea</th>\n",
       "      <th>LatitudeLongitude</th>\n",
       "    </tr>\n",
       "  </thead>\n",
       "  <tbody>\n",
       "    <tr>\n",
       "      <th>0</th>\n",
       "      <td>户型方方正正 满五年就一套 视野开阔直观汇文中学</td>\n",
       "      <td>保利蔷薇</td>\n",
       "      <td>2室2厅</td>\n",
       "      <td>88.63平米</td>\n",
       "      <td>58人关注</td>\n",
       "      <td>共27次带看</td>\n",
       "      <td>19天以前发布</td>\n",
       "      <td>960.0</td>\n",
       "      <td>单价108316元/平米</td>\n",
       "      <td>http://bj.lianjia.com/ershoufang/101101043670....</td>\n",
       "      <td>东城</td>\n",
       "      <td>116.442531,39.89667</td>\n",
       "    </tr>\n",
       "    <tr>\n",
       "      <th>1</th>\n",
       "      <td>禾风相府 南北通透 三居室 前后花园 人车分流</td>\n",
       "      <td>禾风相府</td>\n",
       "      <td>3室2厅</td>\n",
       "      <td>163.83平米</td>\n",
       "      <td>247人关注</td>\n",
       "      <td>共115次带看</td>\n",
       "      <td>6个月以前发布</td>\n",
       "      <td>1801.0</td>\n",
       "      <td>单价109932元/平米</td>\n",
       "      <td>http://bj.lianjia.com/ershoufang/101100238931....</td>\n",
       "      <td>东城</td>\n",
       "      <td>116.428303,39.929284</td>\n",
       "    </tr>\n",
       "    <tr>\n",
       "      <th>2</th>\n",
       "      <td>金鱼池南北通透大复式 正对花园、视野好 诚心出售</td>\n",
       "      <td>金鱼池中区</td>\n",
       "      <td>4室2厅</td>\n",
       "      <td>135.91平米</td>\n",
       "      <td>166人关注</td>\n",
       "      <td>共54次带看</td>\n",
       "      <td>1个月以前发布</td>\n",
       "      <td>950.0</td>\n",
       "      <td>单价69900元/平米</td>\n",
       "      <td>http://bj.lianjia.com/ershoufang/101100902914....</td>\n",
       "      <td>东城</td>\n",
       "      <td>116.415431,39.896044</td>\n",
       "    </tr>\n",
       "    <tr>\n",
       "      <th>3</th>\n",
       "      <td>天娇园商品房 朝东2居 对小区花园 拎包入住</td>\n",
       "      <td>天娇园</td>\n",
       "      <td>2室2厅</td>\n",
       "      <td>91.48平米</td>\n",
       "      <td>61人关注</td>\n",
       "      <td>共41次带看</td>\n",
       "      <td>27天以前发布</td>\n",
       "      <td>850.0</td>\n",
       "      <td>单价92917元/平米</td>\n",
       "      <td>http://bj.lianjia.com/ershoufang/101101015122....</td>\n",
       "      <td>东城</td>\n",
       "      <td>116.445751,39.903761</td>\n",
       "    </tr>\n",
       "    <tr>\n",
       "      <th>4</th>\n",
       "      <td>南北通透三居室 和平里一小 中间楼层 满五年</td>\n",
       "      <td>和平里三区</td>\n",
       "      <td>2室1厅</td>\n",
       "      <td>71.92平米</td>\n",
       "      <td>39人关注</td>\n",
       "      <td>共51次带看</td>\n",
       "      <td>23天以前发布</td>\n",
       "      <td>800.0</td>\n",
       "      <td>单价111235元/平米</td>\n",
       "      <td>http://bj.lianjia.com/ershoufang/101101030909....</td>\n",
       "      <td>东城</td>\n",
       "      <td>116.427002,39.962219</td>\n",
       "    </tr>\n",
       "  </tbody>\n",
       "</table>\n",
       "</div>"
      ],
      "text/plain": [
       "          SimpleDescription Community HouseType        Area Followers  \\\n",
       "0  户型方方正正 满五年就一套 视野开阔直观汇文中学     保利蔷薇      2室2厅     88.63平米     58人关注    \n",
       "1   禾风相府 南北通透 三居室 前后花园 人车分流     禾风相府      3室2厅    163.83平米    247人关注    \n",
       "2  金鱼池南北通透大复式 正对花园、视野好 诚心出售    金鱼池中区      4室2厅    135.91平米    166人关注    \n",
       "3    天娇园商品房 朝东2居 对小区花园 拎包入住      天娇园      2室2厅     91.48平米     61人关注    \n",
       "4    南北通透三居室 和平里一小 中间楼层 满五年    和平里三区      2室1厅     71.92平米     39人关注    \n",
       "\n",
       "  TimesWatched ReleaseTime  HousePrice UnitPricePerMeter  \\\n",
       "0      共27次带看      19天以前发布       960.0      单价108316元/平米   \n",
       "1     共115次带看      6个月以前发布      1801.0      单价109932元/平米   \n",
       "2      共54次带看      1个月以前发布       950.0       单价69900元/平米   \n",
       "3      共41次带看      27天以前发布       850.0       单价92917元/平米   \n",
       "4      共51次带看      23天以前发布       800.0      单价111235元/平米   \n",
       "\n",
       "                                                Link CityArea  \\\n",
       "0  http://bj.lianjia.com/ershoufang/101101043670....       东城   \n",
       "1  http://bj.lianjia.com/ershoufang/101100238931....       东城   \n",
       "2  http://bj.lianjia.com/ershoufang/101100902914....       东城   \n",
       "3  http://bj.lianjia.com/ershoufang/101101015122....       东城   \n",
       "4  http://bj.lianjia.com/ershoufang/101101030909....       东城   \n",
       "\n",
       "      LatitudeLongitude  \n",
       "0   116.442531,39.89667  \n",
       "1  116.428303,39.929284  \n",
       "2  116.415431,39.896044  \n",
       "3  116.445751,39.903761  \n",
       "4  116.427002,39.962219  "
      ]
     },
     "execution_count": 6,
     "metadata": {},
     "output_type": "execute_result"
    }
   ],
   "source": [
    "lianjia_data_clean.head()"
   ]
  },
  {
   "cell_type": "markdown",
   "metadata": {},
   "source": [
    "### Clean Data\n",
    "#### Tidiness\n",
    "\n",
    "#### Quality \n"
   ]
  },
  {
   "cell_type": "markdown",
   "metadata": {},
   "source": [
    "#### Tidiness"
   ]
  },
  {
   "cell_type": "code",
   "execution_count": 7,
   "metadata": {},
   "outputs": [
    {
     "name": "stderr",
     "output_type": "stream",
     "text": [
      "/usr/local/lib/python3.6/site-packages/ipykernel_launcher.py:1: FutureWarning: currently extract(expand=None) means expand=False (return Index/Series/DataFrame) but in a future version of pandas this will be changed to expand=True (return DataFrame)\n",
      "  \"\"\"Entry point for launching an IPython kernel.\n",
      "/usr/local/lib/python3.6/site-packages/ipykernel_launcher.py:2: FutureWarning: currently extract(expand=None) means expand=False (return Index/Series/DataFrame) but in a future version of pandas this will be changed to expand=True (return DataFrame)\n",
      "  \n"
     ]
    }
   ],
   "source": [
    "lianjia_data_clean['Latitude'] = lianjia_data_clean['LatitudeLongitude'].str.extract('(\\d*\\.\\d*)\\D')\n",
    "lianjia_data_clean['Longitude'] = lianjia_data_clean['LatitudeLongitude'].str.extract('\\D(\\d*\\.\\d*)')"
   ]
  },
  {
   "cell_type": "code",
   "execution_count": 8,
   "metadata": {},
   "outputs": [
    {
     "data": {
      "text/plain": [
       "0     39.89667\n",
       "1    39.929284\n",
       "2    39.896044\n",
       "3    39.903761\n",
       "4    39.962219\n",
       "5    39.962226\n",
       "6    39.905443\n",
       "7    39.893704\n",
       "8    39.866869\n",
       "9    39.898639\n",
       "Name: Longitude, dtype: object"
      ]
     },
     "execution_count": 8,
     "metadata": {},
     "output_type": "execute_result"
    }
   ],
   "source": [
    "lianjia_data_clean['Latitude'].head(10)\n",
    "lianjia_data_clean['Longitude'].head(10)"
   ]
  },
  {
   "cell_type": "code",
   "execution_count": 9,
   "metadata": {},
   "outputs": [],
   "source": [
    "lianjia_data_clean['Latitude'] = lianjia_data_clean['Latitude'].astype('float')\n",
    "lianjia_data_clean['Longitude'] = lianjia_data_clean['Longitude'].astype('float')"
   ]
  },
  {
   "cell_type": "markdown",
   "metadata": {},
   "source": [
    "#### Quality "
   ]
  },
  {
   "cell_type": "markdown",
   "metadata": {},
   "source": [
    "##### Area\n",
    "1, extract the number data\n",
    "2, change data type to float"
   ]
  },
  {
   "cell_type": "code",
   "execution_count": 10,
   "metadata": {},
   "outputs": [
    {
     "name": "stderr",
     "output_type": "stream",
     "text": [
      "/usr/local/lib/python3.6/site-packages/ipykernel_launcher.py:1: FutureWarning: currently extract(expand=None) means expand=False (return Index/Series/DataFrame) but in a future version of pandas this will be changed to expand=True (return DataFrame)\n",
      "  \"\"\"Entry point for launching an IPython kernel.\n"
     ]
    }
   ],
   "source": [
    "lianjia_data_clean['AreaNew'] = lianjia_data['Area'].str.extract('(\\d+\\.?\\d*)\\D+')"
   ]
  },
  {
   "cell_type": "code",
   "execution_count": 11,
   "metadata": {},
   "outputs": [
    {
     "data": {
      "text/plain": [
       "0     88.63\n",
       "1    163.83\n",
       "2    135.91\n",
       "3     91.48\n",
       "4     71.92\n",
       "5     72.84\n",
       "6     48.72\n",
       "7     57.87\n",
       "8     64.16\n",
       "9     80.34\n",
       "Name: AreaNew, dtype: object"
      ]
     },
     "execution_count": 11,
     "metadata": {},
     "output_type": "execute_result"
    }
   ],
   "source": [
    "lianjia_data_clean['AreaNew'].head(10)"
   ]
  },
  {
   "cell_type": "code",
   "execution_count": 12,
   "metadata": {},
   "outputs": [],
   "source": [
    "lianjia_data_clean['AreaNew'] = lianjia_data_clean['AreaNew'].astype('float')"
   ]
  },
  {
   "cell_type": "markdown",
   "metadata": {},
   "source": [
    "##### Followers\n",
    "the same "
   ]
  },
  {
   "cell_type": "code",
   "execution_count": 13,
   "metadata": {},
   "outputs": [
    {
     "name": "stderr",
     "output_type": "stream",
     "text": [
      "/usr/local/lib/python3.6/site-packages/ipykernel_launcher.py:1: FutureWarning: currently extract(expand=None) means expand=False (return Index/Series/DataFrame) but in a future version of pandas this will be changed to expand=True (return DataFrame)\n",
      "  \"\"\"Entry point for launching an IPython kernel.\n"
     ]
    }
   ],
   "source": [
    "lianjia_data_clean['FollowersNew'] = lianjia_data['Followers'].str.extract('(\\d+\\.?\\d*)\\D+')"
   ]
  },
  {
   "cell_type": "code",
   "execution_count": 14,
   "metadata": {},
   "outputs": [
    {
     "data": {
      "text/plain": [
       "0     58\n",
       "1    247\n",
       "2    166\n",
       "3     61\n",
       "4     39\n",
       "5     72\n",
       "6     39\n",
       "7     51\n",
       "8     99\n",
       "9    169\n",
       "Name: FollowersNew, dtype: object"
      ]
     },
     "execution_count": 14,
     "metadata": {},
     "output_type": "execute_result"
    }
   ],
   "source": [
    "lianjia_data_clean['FollowersNew'].head(10)"
   ]
  },
  {
   "cell_type": "code",
   "execution_count": 15,
   "metadata": {},
   "outputs": [],
   "source": [
    "lianjia_data_clean['FollowersNew'] = lianjia_data_clean['FollowersNew'].astype('int')"
   ]
  },
  {
   "cell_type": "markdown",
   "metadata": {},
   "source": [
    "##### TimesWatched\n",
    "the same "
   ]
  },
  {
   "cell_type": "code",
   "execution_count": 16,
   "metadata": {},
   "outputs": [
    {
     "name": "stderr",
     "output_type": "stream",
     "text": [
      "/usr/local/lib/python3.6/site-packages/ipykernel_launcher.py:1: FutureWarning: currently extract(expand=None) means expand=False (return Index/Series/DataFrame) but in a future version of pandas this will be changed to expand=True (return DataFrame)\n",
      "  \"\"\"Entry point for launching an IPython kernel.\n"
     ]
    }
   ],
   "source": [
    "lianjia_data_clean['TimesWatchedNew'] = lianjia_data['TimesWatched'].str.extract('(\\d+\\.?\\d*)\\D+')"
   ]
  },
  {
   "cell_type": "code",
   "execution_count": 17,
   "metadata": {},
   "outputs": [
    {
     "data": {
      "text/plain": [
       "0     27\n",
       "1    115\n",
       "2     54\n",
       "3     41\n",
       "4     51\n",
       "5     59\n",
       "6     28\n",
       "7     33\n",
       "8     30\n",
       "9     83\n",
       "Name: TimesWatchedNew, dtype: object"
      ]
     },
     "execution_count": 17,
     "metadata": {},
     "output_type": "execute_result"
    }
   ],
   "source": [
    "lianjia_data_clean['TimesWatchedNew'].head(10)"
   ]
  },
  {
   "cell_type": "code",
   "execution_count": 18,
   "metadata": {},
   "outputs": [],
   "source": [
    "lianjia_data_clean['TimesWatchedNew'] = lianjia_data_clean['TimesWatchedNew'].astype('int')"
   ]
  },
  {
   "cell_type": "markdown",
   "metadata": {},
   "source": [
    "##### UnitPricePerMeter\n",
    "the same "
   ]
  },
  {
   "cell_type": "code",
   "execution_count": 19,
   "metadata": {},
   "outputs": [
    {
     "name": "stderr",
     "output_type": "stream",
     "text": [
      "/usr/local/lib/python3.6/site-packages/ipykernel_launcher.py:1: FutureWarning: currently extract(expand=None) means expand=False (return Index/Series/DataFrame) but in a future version of pandas this will be changed to expand=True (return DataFrame)\n",
      "  \"\"\"Entry point for launching an IPython kernel.\n"
     ]
    }
   ],
   "source": [
    "lianjia_data_clean['UnitPricePerMeterNew'] = lianjia_data['UnitPricePerMeter'].str.extract('(\\d+\\.?\\d*)\\D+')"
   ]
  },
  {
   "cell_type": "code",
   "execution_count": 20,
   "metadata": {},
   "outputs": [
    {
     "data": {
      "text/plain": [
       "0    108316\n",
       "1    109932\n",
       "2     69900\n",
       "3     92917\n",
       "4    111235\n",
       "5    111203\n",
       "6     92365\n",
       "7     92449\n",
       "8     67800\n",
       "9     90864\n",
       "Name: UnitPricePerMeterNew, dtype: object"
      ]
     },
     "execution_count": 20,
     "metadata": {},
     "output_type": "execute_result"
    }
   ],
   "source": [
    "lianjia_data_clean['UnitPricePerMeterNew'].head(10)"
   ]
  },
  {
   "cell_type": "code",
   "execution_count": 21,
   "metadata": {},
   "outputs": [],
   "source": [
    "lianjia_data_clean['UnitPricePerMeterNew'] = lianjia_data_clean['UnitPricePerMeterNew'].astype('float')"
   ]
  },
  {
   "cell_type": "markdown",
   "metadata": {},
   "source": [
    "##### ReleaseTime"
   ]
  },
  {
   "cell_type": "code",
   "execution_count": 22,
   "metadata": {},
   "outputs": [
    {
     "name": "stderr",
     "output_type": "stream",
     "text": [
      "/usr/local/lib/python3.6/site-packages/ipykernel_launcher.py:1: FutureWarning: currently extract(expand=None) means expand=False (return Index/Series/DataFrame) but in a future version of pandas this will be changed to expand=True (return DataFrame)\n",
      "  \"\"\"Entry point for launching an IPython kernel.\n"
     ]
    }
   ],
   "source": [
    "lianjia_data_clean['ReleaseTimeUnit'] = lianjia_data_clean['ReleaseTime'].str.extract('([天月年])')"
   ]
  },
  {
   "cell_type": "code",
   "execution_count": 23,
   "metadata": {},
   "outputs": [
    {
     "name": "stderr",
     "output_type": "stream",
     "text": [
      "/usr/local/lib/python3.6/site-packages/ipykernel_launcher.py:1: FutureWarning: currently extract(expand=None) means expand=False (return Index/Series/DataFrame) but in a future version of pandas this will be changed to expand=True (return DataFrame)\n",
      "  \"\"\"Entry point for launching an IPython kernel.\n"
     ]
    }
   ],
   "source": [
    "lianjia_data_clean['ReleaseTimeVal'] = lianjia_data_clean['ReleaseTime'].str.extract('(\\d+)\\D')"
   ]
  },
  {
   "cell_type": "code",
   "execution_count": 24,
   "metadata": {},
   "outputs": [
    {
     "name": "stderr",
     "output_type": "stream",
     "text": [
      "/usr/local/lib/python3.6/site-packages/ipykernel_launcher.py:3: SettingWithCopyWarning: \n",
      "A value is trying to be set on a copy of a slice from a DataFrame\n",
      "\n",
      "See the caveats in the documentation: http://pandas.pydata.org/pandas-docs/stable/indexing.html#indexing-view-versus-copy\n",
      "  This is separate from the ipykernel package so we can avoid doing imports until\n"
     ]
    }
   ],
   "source": [
    "# for this data set, if use year, just one year, so we can process this by this way, \n",
    "# if we finish this project, will improve this \n",
    "lianjia_data_clean['ReleaseTimeVal'][lianjia_data_clean['ReleaseTimeVal'].isnull()] = 1\n",
    "lianjia_data_clean['ReleaseTimeVal'] = lianjia_data_clean['ReleaseTimeVal'].astype(int)"
   ]
  },
  {
   "cell_type": "code",
   "execution_count": 25,
   "metadata": {},
   "outputs": [
    {
     "data": {
      "text/plain": [
       "{' 10个月以前发布',\n",
       " ' 10天以前发布',\n",
       " ' 11个月以前发布',\n",
       " ' 11天以前发布',\n",
       " ' 12天以前发布',\n",
       " ' 13天以前发布',\n",
       " ' 14天以前发布',\n",
       " ' 15天以前发布',\n",
       " ' 16天以前发布',\n",
       " ' 17天以前发布',\n",
       " ' 18天以前发布',\n",
       " ' 19天以前发布',\n",
       " ' 1个月以前发布',\n",
       " ' 1天以前发布',\n",
       " ' 20天以前发布',\n",
       " ' 21天以前发布',\n",
       " ' 22天以前发布',\n",
       " ' 23天以前发布',\n",
       " ' 24天以前发布',\n",
       " ' 25天以前发布',\n",
       " ' 26天以前发布',\n",
       " ' 27天以前发布',\n",
       " ' 28天以前发布',\n",
       " ' 29天以前发布',\n",
       " ' 2个月以前发布',\n",
       " ' 2天以前发布',\n",
       " ' 30天以前发布',\n",
       " ' 31天以前发布',\n",
       " ' 3个月以前发布',\n",
       " ' 3天以前发布',\n",
       " ' 4个月以前发布',\n",
       " ' 4天以前发布',\n",
       " ' 5个月以前发布',\n",
       " ' 5天以前发布',\n",
       " ' 6个月以前发布',\n",
       " ' 6天以前发布',\n",
       " ' 7个月以前发布',\n",
       " ' 7天以前发布',\n",
       " ' 8个月以前发布',\n",
       " ' 8天以前发布',\n",
       " ' 9个月以前发布',\n",
       " ' 9天以前发布',\n",
       " ' 一年前发布',\n",
       " ' 刚刚发布'}"
      ]
     },
     "execution_count": 25,
     "metadata": {},
     "output_type": "execute_result"
    }
   ],
   "source": [
    "set(lianjia_data_clean['ReleaseTime'])"
   ]
  },
  {
   "cell_type": "code",
   "execution_count": 26,
   "metadata": {},
   "outputs": [
    {
     "data": {
      "text/plain": [
       "Series([], Name: ReleaseTime, dtype: object)"
      ]
     },
     "execution_count": 26,
     "metadata": {},
     "output_type": "execute_result"
    }
   ],
   "source": [
    "lianjia_data_clean['ReleaseTime'][lianjia_data_clean['ReleaseTimeVal'].isnull()]"
   ]
  },
  {
   "cell_type": "code",
   "execution_count": 27,
   "metadata": {},
   "outputs": [
    {
     "data": {
      "text/plain": [
       "1522294390.956565"
      ]
     },
     "execution_count": 27,
     "metadata": {},
     "output_type": "execute_result"
    }
   ],
   "source": [
    "time.time()\n",
    "for i in range(len(lianjia_data_clean)):\n",
    "    if lianjia_data_clean.loc[i,'ReleaseTimeUnit'] == '天':\n",
    "        lianjia_data_clean.loc[i, 'ReleaseTimeNew'] = '本月内'\n",
    "    elif lianjia_data_clean.loc[i,'ReleaseTimeUnit'] == '月':\n",
    "        lianjia_data_clean.loc[i, 'ReleaseTimeNew'] = str(lianjia_data_clean.loc[i,'ReleaseTimeVal']) + '个月前'\n",
    "    elif lianjia_data_clean.loc[i,'ReleaseTimeUnit'] == '年':\n",
    "        # for this data set, if use year, just one year, so we can process this by this way, \n",
    "        # if we finish this project, will improve this \n",
    "        lianjia_data_clean.loc[i, 'ReleaseTimeNew'] = '12个月前'\n",
    "    else:\n",
    "        # for '刚刚发布'\n",
    "        lianjia_data_clean.loc[i, 'ReleaseTimeNew'] = '本月内'\n",
    "time.time()"
   ]
  },
  {
   "cell_type": "code",
   "execution_count": 28,
   "metadata": {},
   "outputs": [
    {
     "data": {
      "text/plain": [
       "8291     8个月前\n",
       "9784     1个月前\n",
       "7542     2个月前\n",
       "17734    2个月前\n",
       "17780    1个月前\n",
       "4896     3个月前\n",
       "3577     1个月前\n",
       "22183    3个月前\n",
       "16580     本月内\n",
       "8645     3个月前\n",
       "16011    6个月前\n",
       "4841     9个月前\n",
       "8973     4个月前\n",
       "21627    2个月前\n",
       "6279     2个月前\n",
       "2267      本月内\n",
       "13148    6个月前\n",
       "16972    1个月前\n",
       "20277    2个月前\n",
       "1354      本月内\n",
       "Name: ReleaseTimeNew, dtype: object"
      ]
     },
     "execution_count": 28,
     "metadata": {},
     "output_type": "execute_result"
    }
   ],
   "source": [
    "lianjia_data_clean['ReleaseTimeNew'].sample(20)"
   ]
  },
  {
   "cell_type": "markdown",
   "metadata": {},
   "source": [
    "#####  Drop the old columns "
   ]
  },
  {
   "cell_type": "code",
   "execution_count": 30,
   "metadata": {},
   "outputs": [
    {
     "name": "stdout",
     "output_type": "stream",
     "text": [
      "<class 'pandas.core.frame.DataFrame'>\n",
      "RangeIndex: 23440 entries, 0 to 23439\n",
      "Data columns (total 21 columns):\n",
      "SimpleDescription       23440 non-null object\n",
      "Community               23440 non-null object\n",
      "HouseType               23440 non-null object\n",
      "Area                    23440 non-null object\n",
      "Followers               23440 non-null object\n",
      "TimesWatched            23440 non-null object\n",
      "ReleaseTime             23440 non-null object\n",
      "HousePrice              23440 non-null float64\n",
      "UnitPricePerMeter       23440 non-null object\n",
      "Link                    23440 non-null object\n",
      "CityArea                23440 non-null object\n",
      "LatitudeLongitude       23440 non-null object\n",
      "Latitude                23438 non-null float64\n",
      "Longitude               23438 non-null float64\n",
      "AreaNew                 23440 non-null float64\n",
      "FollowersNew            23440 non-null int64\n",
      "TimesWatchedNew         23440 non-null int64\n",
      "UnitPricePerMeterNew    23440 non-null float64\n",
      "ReleaseTimeUnit         23348 non-null object\n",
      "ReleaseTimeVal          23440 non-null int64\n",
      "ReleaseTimeNew          23440 non-null object\n",
      "dtypes: float64(5), int64(3), object(13)\n",
      "memory usage: 3.8+ MB\n"
     ]
    }
   ],
   "source": [
    "lianjia_data_clean.info()"
   ]
  },
  {
   "cell_type": "code",
   "execution_count": 31,
   "metadata": {},
   "outputs": [],
   "source": [
    "lianjia_data_clean = lianjia_data_clean.drop(['Area', 'Followers', 'TimesWatched', 'ReleaseTime', \n",
    "                         'UnitPricePerMeter', 'LatitudeLongitude', 'ReleaseTimeUnit', \n",
    "                        'ReleaseTimeVal'], axis = 1)"
   ]
  },
  {
   "cell_type": "markdown",
   "metadata": {},
   "source": [
    "####  'CityArea', 'Community', 'HouseType' \n",
    "change them to categery"
   ]
  },
  {
   "cell_type": "code",
   "execution_count": 33,
   "metadata": {},
   "outputs": [],
   "source": [
    "lianjia_data_clean['ReleaseTimeNew'] = lianjia_data_clean['ReleaseTimeNew'].astype('category')\n",
    "lianjia_data_clean['CityArea'] = lianjia_data_clean['CityArea'].astype('category')\n",
    "lianjia_data_clean['Community'] = lianjia_data_clean['Community'].astype('category')\n",
    "lianjia_data_clean['HouseType'] = lianjia_data_clean['HouseType'].astype('category')"
   ]
  },
  {
   "cell_type": "code",
   "execution_count": 34,
   "metadata": {},
   "outputs": [
    {
     "name": "stdout",
     "output_type": "stream",
     "text": [
      "<class 'pandas.core.frame.DataFrame'>\n",
      "RangeIndex: 23440 entries, 0 to 23439\n",
      "Data columns (total 13 columns):\n",
      "SimpleDescription       23440 non-null object\n",
      "Community               23440 non-null category\n",
      "HouseType               23440 non-null category\n",
      "HousePrice              23440 non-null float64\n",
      "Link                    23440 non-null object\n",
      "CityArea                23440 non-null category\n",
      "Latitude                23438 non-null float64\n",
      "Longitude               23438 non-null float64\n",
      "AreaNew                 23440 non-null float64\n",
      "FollowersNew            23440 non-null int64\n",
      "TimesWatchedNew         23440 non-null int64\n",
      "UnitPricePerMeterNew    23440 non-null float64\n",
      "ReleaseTimeNew          23440 non-null category\n",
      "dtypes: category(4), float64(5), int64(2), object(2)\n",
      "memory usage: 1.9+ MB\n"
     ]
    }
   ],
   "source": [
    "lianjia_data_clean.info()"
   ]
  },
  {
   "cell_type": "code",
   "execution_count": 35,
   "metadata": {},
   "outputs": [
    {
     "data": {
      "text/html": [
       "<div>\n",
       "<style scoped>\n",
       "    .dataframe tbody tr th:only-of-type {\n",
       "        vertical-align: middle;\n",
       "    }\n",
       "\n",
       "    .dataframe tbody tr th {\n",
       "        vertical-align: top;\n",
       "    }\n",
       "\n",
       "    .dataframe thead th {\n",
       "        text-align: right;\n",
       "    }\n",
       "</style>\n",
       "<table border=\"1\" class=\"dataframe\">\n",
       "  <thead>\n",
       "    <tr style=\"text-align: right;\">\n",
       "      <th></th>\n",
       "      <th>SimpleDescription</th>\n",
       "      <th>Community</th>\n",
       "      <th>HouseType</th>\n",
       "      <th>HousePrice</th>\n",
       "      <th>Link</th>\n",
       "      <th>CityArea</th>\n",
       "      <th>Latitude</th>\n",
       "      <th>Longitude</th>\n",
       "      <th>AreaNew</th>\n",
       "      <th>FollowersNew</th>\n",
       "      <th>TimesWatchedNew</th>\n",
       "      <th>UnitPricePerMeterNew</th>\n",
       "      <th>ReleaseTimeNew</th>\n",
       "    </tr>\n",
       "  </thead>\n",
       "  <tbody>\n",
       "    <tr>\n",
       "      <th>0</th>\n",
       "      <td>户型方方正正 满五年就一套 视野开阔直观汇文中学</td>\n",
       "      <td>保利蔷薇</td>\n",
       "      <td>2室2厅</td>\n",
       "      <td>960.0</td>\n",
       "      <td>http://bj.lianjia.com/ershoufang/101101043670....</td>\n",
       "      <td>东城</td>\n",
       "      <td>116.442531</td>\n",
       "      <td>39.896670</td>\n",
       "      <td>88.63</td>\n",
       "      <td>58</td>\n",
       "      <td>27</td>\n",
       "      <td>108316.0</td>\n",
       "      <td>本月内</td>\n",
       "    </tr>\n",
       "    <tr>\n",
       "      <th>1</th>\n",
       "      <td>禾风相府 南北通透 三居室 前后花园 人车分流</td>\n",
       "      <td>禾风相府</td>\n",
       "      <td>3室2厅</td>\n",
       "      <td>1801.0</td>\n",
       "      <td>http://bj.lianjia.com/ershoufang/101100238931....</td>\n",
       "      <td>东城</td>\n",
       "      <td>116.428303</td>\n",
       "      <td>39.929284</td>\n",
       "      <td>163.83</td>\n",
       "      <td>247</td>\n",
       "      <td>115</td>\n",
       "      <td>109932.0</td>\n",
       "      <td>6个月前</td>\n",
       "    </tr>\n",
       "    <tr>\n",
       "      <th>2</th>\n",
       "      <td>金鱼池南北通透大复式 正对花园、视野好 诚心出售</td>\n",
       "      <td>金鱼池中区</td>\n",
       "      <td>4室2厅</td>\n",
       "      <td>950.0</td>\n",
       "      <td>http://bj.lianjia.com/ershoufang/101100902914....</td>\n",
       "      <td>东城</td>\n",
       "      <td>116.415431</td>\n",
       "      <td>39.896044</td>\n",
       "      <td>135.91</td>\n",
       "      <td>166</td>\n",
       "      <td>54</td>\n",
       "      <td>69900.0</td>\n",
       "      <td>1个月前</td>\n",
       "    </tr>\n",
       "    <tr>\n",
       "      <th>3</th>\n",
       "      <td>天娇园商品房 朝东2居 对小区花园 拎包入住</td>\n",
       "      <td>天娇园</td>\n",
       "      <td>2室2厅</td>\n",
       "      <td>850.0</td>\n",
       "      <td>http://bj.lianjia.com/ershoufang/101101015122....</td>\n",
       "      <td>东城</td>\n",
       "      <td>116.445751</td>\n",
       "      <td>39.903761</td>\n",
       "      <td>91.48</td>\n",
       "      <td>61</td>\n",
       "      <td>41</td>\n",
       "      <td>92917.0</td>\n",
       "      <td>本月内</td>\n",
       "    </tr>\n",
       "    <tr>\n",
       "      <th>4</th>\n",
       "      <td>南北通透三居室 和平里一小 中间楼层 满五年</td>\n",
       "      <td>和平里三区</td>\n",
       "      <td>2室1厅</td>\n",
       "      <td>800.0</td>\n",
       "      <td>http://bj.lianjia.com/ershoufang/101101030909....</td>\n",
       "      <td>东城</td>\n",
       "      <td>116.427002</td>\n",
       "      <td>39.962219</td>\n",
       "      <td>71.92</td>\n",
       "      <td>39</td>\n",
       "      <td>51</td>\n",
       "      <td>111235.0</td>\n",
       "      <td>本月内</td>\n",
       "    </tr>\n",
       "  </tbody>\n",
       "</table>\n",
       "</div>"
      ],
      "text/plain": [
       "          SimpleDescription Community HouseType  HousePrice  \\\n",
       "0  户型方方正正 满五年就一套 视野开阔直观汇文中学     保利蔷薇      2室2厅        960.0   \n",
       "1   禾风相府 南北通透 三居室 前后花园 人车分流     禾风相府      3室2厅       1801.0   \n",
       "2  金鱼池南北通透大复式 正对花园、视野好 诚心出售    金鱼池中区      4室2厅        950.0   \n",
       "3    天娇园商品房 朝东2居 对小区花园 拎包入住      天娇园      2室2厅        850.0   \n",
       "4    南北通透三居室 和平里一小 中间楼层 满五年    和平里三区      2室1厅        800.0   \n",
       "\n",
       "                                                Link CityArea    Latitude  \\\n",
       "0  http://bj.lianjia.com/ershoufang/101101043670....       东城  116.442531   \n",
       "1  http://bj.lianjia.com/ershoufang/101100238931....       东城  116.428303   \n",
       "2  http://bj.lianjia.com/ershoufang/101100902914....       东城  116.415431   \n",
       "3  http://bj.lianjia.com/ershoufang/101101015122....       东城  116.445751   \n",
       "4  http://bj.lianjia.com/ershoufang/101101030909....       东城  116.427002   \n",
       "\n",
       "   Longitude  AreaNew  FollowersNew  TimesWatchedNew  UnitPricePerMeterNew  \\\n",
       "0  39.896670    88.63            58               27              108316.0   \n",
       "1  39.929284   163.83           247              115              109932.0   \n",
       "2  39.896044   135.91           166               54               69900.0   \n",
       "3  39.903761    91.48            61               41               92917.0   \n",
       "4  39.962219    71.92            39               51              111235.0   \n",
       "\n",
       "  ReleaseTimeNew  \n",
       "0            本月内  \n",
       "1           6个月前  \n",
       "2           1个月前  \n",
       "3            本月内  \n",
       "4            本月内  "
      ]
     },
     "execution_count": 35,
     "metadata": {},
     "output_type": "execute_result"
    }
   ],
   "source": [
    "lianjia_data_clean.head()"
   ]
  },
  {
   "cell_type": "markdown",
   "metadata": {},
   "source": [
    "#### Delete Space"
   ]
  },
  {
   "cell_type": "code",
   "execution_count": 36,
   "metadata": {},
   "outputs": [
    {
     "name": "stderr",
     "output_type": "stream",
     "text": [
      "/usr/local/lib/python3.6/site-packages/ipykernel_launcher.py:1: FutureWarning: currently extract(expand=None) means expand=False (return Index/Series/DataFrame) but in a future version of pandas this will be changed to expand=True (return DataFrame)\n",
      "  \"\"\"Entry point for launching an IPython kernel.\n"
     ]
    }
   ],
   "source": [
    "lianjia_data_clean['HouseType'] = lianjia_data_clean['HouseType'].str.extract('(\\S+)')"
   ]
  },
  {
   "cell_type": "markdown",
   "metadata": {},
   "source": [
    "#### Remove car parking place information"
   ]
  },
  {
   "cell_type": "code",
   "execution_count": 37,
   "metadata": {},
   "outputs": [],
   "source": [
    "lianjia_data_clean = lianjia_data_clean[lianjia_data_clean.HouseType != '车位']"
   ]
  },
  {
   "cell_type": "code",
   "execution_count": 38,
   "metadata": {},
   "outputs": [
    {
     "data": {
      "text/html": [
       "<div>\n",
       "<style scoped>\n",
       "    .dataframe tbody tr th:only-of-type {\n",
       "        vertical-align: middle;\n",
       "    }\n",
       "\n",
       "    .dataframe tbody tr th {\n",
       "        vertical-align: top;\n",
       "    }\n",
       "\n",
       "    .dataframe thead th {\n",
       "        text-align: right;\n",
       "    }\n",
       "</style>\n",
       "<table border=\"1\" class=\"dataframe\">\n",
       "  <thead>\n",
       "    <tr style=\"text-align: right;\">\n",
       "      <th></th>\n",
       "      <th>SimpleDescription</th>\n",
       "      <th>Community</th>\n",
       "      <th>HouseType</th>\n",
       "      <th>HousePrice</th>\n",
       "      <th>Link</th>\n",
       "      <th>CityArea</th>\n",
       "      <th>Latitude</th>\n",
       "      <th>Longitude</th>\n",
       "      <th>AreaNew</th>\n",
       "      <th>FollowersNew</th>\n",
       "      <th>TimesWatchedNew</th>\n",
       "      <th>UnitPricePerMeterNew</th>\n",
       "      <th>ReleaseTimeNew</th>\n",
       "    </tr>\n",
       "  </thead>\n",
       "  <tbody>\n",
       "  </tbody>\n",
       "</table>\n",
       "</div>"
      ],
      "text/plain": [
       "Empty DataFrame\n",
       "Columns: [SimpleDescription, Community, HouseType, HousePrice, Link, CityArea, Latitude, Longitude, AreaNew, FollowersNew, TimesWatchedNew, UnitPricePerMeterNew, ReleaseTimeNew]\n",
       "Index: []"
      ]
     },
     "execution_count": 38,
     "metadata": {},
     "output_type": "execute_result"
    }
   ],
   "source": [
    "lianjia_data_clean[lianjia_data_clean.HouseType == '车位']"
   ]
  },
  {
   "cell_type": "code",
   "execution_count": 39,
   "metadata": {},
   "outputs": [
    {
     "data": {
      "text/plain": [
       "{'0室2厅',\n",
       " '10室3厅',\n",
       " '10室4厅',\n",
       " '15室1厅',\n",
       " '15室3厅',\n",
       " '1室0厅',\n",
       " '1室1厅',\n",
       " '1室2厅',\n",
       " '1室3厅',\n",
       " '2室0厅',\n",
       " '2室1厅',\n",
       " '2室2厅',\n",
       " '2室3厅',\n",
       " '2室4厅',\n",
       " '3室0厅',\n",
       " '3室1厅',\n",
       " '3室2厅',\n",
       " '3室3厅',\n",
       " '3室4厅',\n",
       " '3室5厅',\n",
       " '4室0厅',\n",
       " '4室1厅',\n",
       " '4室2厅',\n",
       " '4室3厅',\n",
       " '4室4厅',\n",
       " '5室0厅',\n",
       " '5室1厅',\n",
       " '5室2厅',\n",
       " '5室3厅',\n",
       " '5室4厅',\n",
       " '5室5厅',\n",
       " '6室1厅',\n",
       " '6室2厅',\n",
       " '6室3厅',\n",
       " '6室4厅',\n",
       " '6室6厅',\n",
       " '7室1厅',\n",
       " '7室2厅',\n",
       " '7室3厅',\n",
       " '7室4厅',\n",
       " '7室5厅',\n",
       " '8室1厅',\n",
       " '8室2厅',\n",
       " '8室3厅',\n",
       " '9室2厅',\n",
       " '9室3厅',\n",
       " '9室4厅',\n",
       " '9室6厅',\n",
       " '双拼别墅',\n",
       " '叠拼别墅',\n",
       " '独栋别墅',\n",
       " '联排别墅'}"
      ]
     },
     "execution_count": 39,
     "metadata": {},
     "output_type": "execute_result"
    }
   ],
   "source": [
    "set(lianjia_data_clean.HouseType)"
   ]
  },
  {
   "cell_type": "markdown",
   "metadata": {},
   "source": [
    "#### Revise the AreaNew information for villas"
   ]
  },
  {
   "cell_type": "code",
   "execution_count": 40,
   "metadata": {},
   "outputs": [
    {
     "name": "stderr",
     "output_type": "stream",
     "text": [
      "/usr/local/lib/python3.6/site-packages/ipykernel_launcher.py:2: FutureWarning: currently extract(expand=None) means expand=False (return Index/Series/DataFrame) but in a future version of pandas this will be changed to expand=True (return DataFrame)\n",
      "  \n",
      "/usr/local/lib/python3.6/site-packages/ipykernel_launcher.py:3: FutureWarning: currently extract(expand=None) means expand=False (return Index/Series/DataFrame) but in a future version of pandas this will be changed to expand=True (return DataFrame)\n",
      "  This is separate from the ipykernel package so we can avoid doing imports until\n"
     ]
    }
   ],
   "source": [
    "lianjia_data_clean['AreaNew'][lianjia_data_clean['HouseType'].str.extract('(别墅)') == '别墅'] = round(\n",
    "lianjia_data_clean['HousePrice'][lianjia_data_clean['HouseType'].str.extract('(别墅)') == '别墅'] * 10000 / \n",
    "lianjia_data_clean['UnitPricePerMeterNew'][lianjia_data_clean['HouseType'].str.extract('(别墅)') == '别墅'], 2)"
   ]
  },
  {
   "cell_type": "code",
   "execution_count": 41,
   "metadata": {},
   "outputs": [
    {
     "name": "stderr",
     "output_type": "stream",
     "text": [
      "/usr/local/lib/python3.6/site-packages/ipykernel_launcher.py:1: FutureWarning: currently extract(expand=None) means expand=False (return Index/Series/DataFrame) but in a future version of pandas this will be changed to expand=True (return DataFrame)\n",
      "  \"\"\"Entry point for launching an IPython kernel.\n"
     ]
    },
    {
     "data": {
      "text/html": [
       "<div>\n",
       "<style scoped>\n",
       "    .dataframe tbody tr th:only-of-type {\n",
       "        vertical-align: middle;\n",
       "    }\n",
       "\n",
       "    .dataframe tbody tr th {\n",
       "        vertical-align: top;\n",
       "    }\n",
       "\n",
       "    .dataframe thead th {\n",
       "        text-align: right;\n",
       "    }\n",
       "</style>\n",
       "<table border=\"1\" class=\"dataframe\">\n",
       "  <thead>\n",
       "    <tr style=\"text-align: right;\">\n",
       "      <th></th>\n",
       "      <th>HouseType</th>\n",
       "      <th>AreaNew</th>\n",
       "    </tr>\n",
       "  </thead>\n",
       "  <tbody>\n",
       "    <tr>\n",
       "      <th>418</th>\n",
       "      <td>叠拼别墅</td>\n",
       "      <td>156.01</td>\n",
       "    </tr>\n",
       "    <tr>\n",
       "      <th>981</th>\n",
       "      <td>联排别墅</td>\n",
       "      <td>200.39</td>\n",
       "    </tr>\n",
       "    <tr>\n",
       "      <th>2464</th>\n",
       "      <td>联排别墅</td>\n",
       "      <td>219.37</td>\n",
       "    </tr>\n",
       "    <tr>\n",
       "      <th>2762</th>\n",
       "      <td>独栋别墅</td>\n",
       "      <td>209.00</td>\n",
       "    </tr>\n",
       "    <tr>\n",
       "      <th>3116</th>\n",
       "      <td>叠拼别墅</td>\n",
       "      <td>231.15</td>\n",
       "    </tr>\n",
       "    <tr>\n",
       "      <th>3467</th>\n",
       "      <td>叠拼别墅</td>\n",
       "      <td>200.21</td>\n",
       "    </tr>\n",
       "    <tr>\n",
       "      <th>3559</th>\n",
       "      <td>联排别墅</td>\n",
       "      <td>266.00</td>\n",
       "    </tr>\n",
       "    <tr>\n",
       "      <th>3561</th>\n",
       "      <td>联排别墅</td>\n",
       "      <td>266.00</td>\n",
       "    </tr>\n",
       "    <tr>\n",
       "      <th>3975</th>\n",
       "      <td>联排别墅</td>\n",
       "      <td>296.98</td>\n",
       "    </tr>\n",
       "    <tr>\n",
       "      <th>4286</th>\n",
       "      <td>联排别墅</td>\n",
       "      <td>344.85</td>\n",
       "    </tr>\n",
       "  </tbody>\n",
       "</table>\n",
       "</div>"
      ],
      "text/plain": [
       "     HouseType  AreaNew\n",
       "418       叠拼别墅   156.01\n",
       "981       联排别墅   200.39\n",
       "2464      联排别墅   219.37\n",
       "2762      独栋别墅   209.00\n",
       "3116      叠拼别墅   231.15\n",
       "3467      叠拼别墅   200.21\n",
       "3559      联排别墅   266.00\n",
       "3561      联排别墅   266.00\n",
       "3975      联排别墅   296.98\n",
       "4286      联排别墅   344.85"
      ]
     },
     "execution_count": 41,
     "metadata": {},
     "output_type": "execute_result"
    }
   ],
   "source": [
    "lianjia_data_clean[['HouseType', 'AreaNew']][lianjia_data_clean['HouseType'].str.extract('(别墅)') == '别墅'].head(10)"
   ]
  },
  {
   "cell_type": "code",
   "execution_count": 42,
   "metadata": {},
   "outputs": [
    {
     "data": {
      "text/html": [
       "<div>\n",
       "<style scoped>\n",
       "    .dataframe tbody tr th:only-of-type {\n",
       "        vertical-align: middle;\n",
       "    }\n",
       "\n",
       "    .dataframe tbody tr th {\n",
       "        vertical-align: top;\n",
       "    }\n",
       "\n",
       "    .dataframe thead th {\n",
       "        text-align: right;\n",
       "    }\n",
       "</style>\n",
       "<table border=\"1\" class=\"dataframe\">\n",
       "  <thead>\n",
       "    <tr style=\"text-align: right;\">\n",
       "      <th></th>\n",
       "      <th>SimpleDescription</th>\n",
       "      <th>Community</th>\n",
       "      <th>HouseType</th>\n",
       "      <th>HousePrice</th>\n",
       "      <th>Link</th>\n",
       "      <th>CityArea</th>\n",
       "      <th>Latitude</th>\n",
       "      <th>Longitude</th>\n",
       "      <th>AreaNew</th>\n",
       "      <th>FollowersNew</th>\n",
       "      <th>TimesWatchedNew</th>\n",
       "      <th>UnitPricePerMeterNew</th>\n",
       "      <th>ReleaseTimeNew</th>\n",
       "    </tr>\n",
       "  </thead>\n",
       "  <tbody>\n",
       "    <tr>\n",
       "      <th>0</th>\n",
       "      <td>户型方方正正 满五年就一套 视野开阔直观汇文中学</td>\n",
       "      <td>保利蔷薇</td>\n",
       "      <td>2室2厅</td>\n",
       "      <td>960.0</td>\n",
       "      <td>http://bj.lianjia.com/ershoufang/101101043670....</td>\n",
       "      <td>东城</td>\n",
       "      <td>116.442531</td>\n",
       "      <td>39.896670</td>\n",
       "      <td>88.63</td>\n",
       "      <td>58</td>\n",
       "      <td>27</td>\n",
       "      <td>108316.0</td>\n",
       "      <td>本月内</td>\n",
       "    </tr>\n",
       "    <tr>\n",
       "      <th>1</th>\n",
       "      <td>禾风相府 南北通透 三居室 前后花园 人车分流</td>\n",
       "      <td>禾风相府</td>\n",
       "      <td>3室2厅</td>\n",
       "      <td>1801.0</td>\n",
       "      <td>http://bj.lianjia.com/ershoufang/101100238931....</td>\n",
       "      <td>东城</td>\n",
       "      <td>116.428303</td>\n",
       "      <td>39.929284</td>\n",
       "      <td>163.83</td>\n",
       "      <td>247</td>\n",
       "      <td>115</td>\n",
       "      <td>109932.0</td>\n",
       "      <td>6个月前</td>\n",
       "    </tr>\n",
       "    <tr>\n",
       "      <th>2</th>\n",
       "      <td>金鱼池南北通透大复式 正对花园、视野好 诚心出售</td>\n",
       "      <td>金鱼池中区</td>\n",
       "      <td>4室2厅</td>\n",
       "      <td>950.0</td>\n",
       "      <td>http://bj.lianjia.com/ershoufang/101100902914....</td>\n",
       "      <td>东城</td>\n",
       "      <td>116.415431</td>\n",
       "      <td>39.896044</td>\n",
       "      <td>135.91</td>\n",
       "      <td>166</td>\n",
       "      <td>54</td>\n",
       "      <td>69900.0</td>\n",
       "      <td>1个月前</td>\n",
       "    </tr>\n",
       "    <tr>\n",
       "      <th>3</th>\n",
       "      <td>天娇园商品房 朝东2居 对小区花园 拎包入住</td>\n",
       "      <td>天娇园</td>\n",
       "      <td>2室2厅</td>\n",
       "      <td>850.0</td>\n",
       "      <td>http://bj.lianjia.com/ershoufang/101101015122....</td>\n",
       "      <td>东城</td>\n",
       "      <td>116.445751</td>\n",
       "      <td>39.903761</td>\n",
       "      <td>91.48</td>\n",
       "      <td>61</td>\n",
       "      <td>41</td>\n",
       "      <td>92917.0</td>\n",
       "      <td>本月内</td>\n",
       "    </tr>\n",
       "    <tr>\n",
       "      <th>4</th>\n",
       "      <td>南北通透三居室 和平里一小 中间楼层 满五年</td>\n",
       "      <td>和平里三区</td>\n",
       "      <td>2室1厅</td>\n",
       "      <td>800.0</td>\n",
       "      <td>http://bj.lianjia.com/ershoufang/101101030909....</td>\n",
       "      <td>东城</td>\n",
       "      <td>116.427002</td>\n",
       "      <td>39.962219</td>\n",
       "      <td>71.92</td>\n",
       "      <td>39</td>\n",
       "      <td>51</td>\n",
       "      <td>111235.0</td>\n",
       "      <td>本月内</td>\n",
       "    </tr>\n",
       "    <tr>\n",
       "      <th>5</th>\n",
       "      <td>六铺炕 3室1厅 810万</td>\n",
       "      <td>六铺炕</td>\n",
       "      <td>3室1厅</td>\n",
       "      <td>810.0</td>\n",
       "      <td>http://bj.lianjia.com/ershoufang/101101034394....</td>\n",
       "      <td>东城</td>\n",
       "      <td>116.400533</td>\n",
       "      <td>39.962226</td>\n",
       "      <td>72.84</td>\n",
       "      <td>72</td>\n",
       "      <td>59</td>\n",
       "      <td>111203.0</td>\n",
       "      <td>本月内</td>\n",
       "    </tr>\n",
       "    <tr>\n",
       "      <th>6</th>\n",
       "      <td>划片花市小学 满五年无个税 正规一居  随时可看</td>\n",
       "      <td>东花市北里中区</td>\n",
       "      <td>1室1厅</td>\n",
       "      <td>450.0</td>\n",
       "      <td>http://bj.lianjia.com/ershoufang/101101005293....</td>\n",
       "      <td>东城</td>\n",
       "      <td>116.439746</td>\n",
       "      <td>39.905443</td>\n",
       "      <td>48.72</td>\n",
       "      <td>39</td>\n",
       "      <td>28</td>\n",
       "      <td>92365.0</td>\n",
       "      <td>本月内</td>\n",
       "    </tr>\n",
       "    <tr>\n",
       "      <th>7</th>\n",
       "      <td>南岗子南北小两居 精装修 无抵押 无贷款 卖房变现</td>\n",
       "      <td>南岗子</td>\n",
       "      <td>2室1厅</td>\n",
       "      <td>535.0</td>\n",
       "      <td>http://bj.lianjia.com/ershoufang/101101052800....</td>\n",
       "      <td>东城</td>\n",
       "      <td>116.434155</td>\n",
       "      <td>39.893704</td>\n",
       "      <td>57.87</td>\n",
       "      <td>51</td>\n",
       "      <td>33</td>\n",
       "      <td>92449.0</td>\n",
       "      <td>本月内</td>\n",
       "    </tr>\n",
       "    <tr>\n",
       "      <th>8</th>\n",
       "      <td>满五年业主名下仅有的一套商品房   产权清晰无抵押</td>\n",
       "      <td>富莱茵花园</td>\n",
       "      <td>2室1厅</td>\n",
       "      <td>435.0</td>\n",
       "      <td>http://bj.lianjia.com/ershoufang/101101062188....</td>\n",
       "      <td>东城</td>\n",
       "      <td>116.414452</td>\n",
       "      <td>39.866869</td>\n",
       "      <td>64.16</td>\n",
       "      <td>99</td>\n",
       "      <td>30</td>\n",
       "      <td>67800.0</td>\n",
       "      <td>本月内</td>\n",
       "    </tr>\n",
       "    <tr>\n",
       "      <th>9</th>\n",
       "      <td>把角全凸三居室 双卧室朝南 户型方正无浪费 有储藏间</td>\n",
       "      <td>安化北里</td>\n",
       "      <td>3室1厅</td>\n",
       "      <td>730.0</td>\n",
       "      <td>http://bj.lianjia.com/ershoufang/101100882193....</td>\n",
       "      <td>东城</td>\n",
       "      <td>116.441608</td>\n",
       "      <td>39.898639</td>\n",
       "      <td>80.34</td>\n",
       "      <td>169</td>\n",
       "      <td>83</td>\n",
       "      <td>90864.0</td>\n",
       "      <td>1个月前</td>\n",
       "    </tr>\n",
       "  </tbody>\n",
       "</table>\n",
       "</div>"
      ],
      "text/plain": [
       "            SimpleDescription Community HouseType  HousePrice  \\\n",
       "0    户型方方正正 满五年就一套 视野开阔直观汇文中学     保利蔷薇       2室2厅       960.0   \n",
       "1     禾风相府 南北通透 三居室 前后花园 人车分流     禾风相府       3室2厅      1801.0   \n",
       "2    金鱼池南北通透大复式 正对花园、视野好 诚心出售    金鱼池中区       4室2厅       950.0   \n",
       "3      天娇园商品房 朝东2居 对小区花园 拎包入住      天娇园       2室2厅       850.0   \n",
       "4      南北通透三居室 和平里一小 中间楼层 满五年    和平里三区       2室1厅       800.0   \n",
       "5               六铺炕 3室1厅 810万      六铺炕       3室1厅       810.0   \n",
       "6    划片花市小学 满五年无个税 正规一居  随时可看  东花市北里中区       1室1厅       450.0   \n",
       "7   南岗子南北小两居 精装修 无抵押 无贷款 卖房变现      南岗子       2室1厅       535.0   \n",
       "8   满五年业主名下仅有的一套商品房   产权清晰无抵押    富莱茵花园       2室1厅       435.0   \n",
       "9  把角全凸三居室 双卧室朝南 户型方正无浪费 有储藏间     安化北里       3室1厅       730.0   \n",
       "\n",
       "                                                Link CityArea    Latitude  \\\n",
       "0  http://bj.lianjia.com/ershoufang/101101043670....       东城  116.442531   \n",
       "1  http://bj.lianjia.com/ershoufang/101100238931....       东城  116.428303   \n",
       "2  http://bj.lianjia.com/ershoufang/101100902914....       东城  116.415431   \n",
       "3  http://bj.lianjia.com/ershoufang/101101015122....       东城  116.445751   \n",
       "4  http://bj.lianjia.com/ershoufang/101101030909....       东城  116.427002   \n",
       "5  http://bj.lianjia.com/ershoufang/101101034394....       东城  116.400533   \n",
       "6  http://bj.lianjia.com/ershoufang/101101005293....       东城  116.439746   \n",
       "7  http://bj.lianjia.com/ershoufang/101101052800....       东城  116.434155   \n",
       "8  http://bj.lianjia.com/ershoufang/101101062188....       东城  116.414452   \n",
       "9  http://bj.lianjia.com/ershoufang/101100882193....       东城  116.441608   \n",
       "\n",
       "   Longitude  AreaNew  FollowersNew  TimesWatchedNew  UnitPricePerMeterNew  \\\n",
       "0  39.896670    88.63            58               27              108316.0   \n",
       "1  39.929284   163.83           247              115              109932.0   \n",
       "2  39.896044   135.91           166               54               69900.0   \n",
       "3  39.903761    91.48            61               41               92917.0   \n",
       "4  39.962219    71.92            39               51              111235.0   \n",
       "5  39.962226    72.84            72               59              111203.0   \n",
       "6  39.905443    48.72            39               28               92365.0   \n",
       "7  39.893704    57.87            51               33               92449.0   \n",
       "8  39.866869    64.16            99               30               67800.0   \n",
       "9  39.898639    80.34           169               83               90864.0   \n",
       "\n",
       "  ReleaseTimeNew  \n",
       "0            本月内  \n",
       "1           6个月前  \n",
       "2           1个月前  \n",
       "3            本月内  \n",
       "4            本月内  \n",
       "5            本月内  \n",
       "6            本月内  \n",
       "7            本月内  \n",
       "8            本月内  \n",
       "9           1个月前  "
      ]
     },
     "execution_count": 42,
     "metadata": {},
     "output_type": "execute_result"
    }
   ],
   "source": [
    "lianjia_data_clean.head(10)"
   ]
  },
  {
   "cell_type": "code",
   "execution_count": 43,
   "metadata": {},
   "outputs": [],
   "source": [
    "# keep the version number for tableau \n",
    "lianjia_data_clean.to_excel('lianjia_data_clean_v01.xlsx')\n",
    "# revise the version number\n",
    "lianjia_data_clean.to_excel('lianjia_data_clean_v02.xlsx')"
   ]
  },
  {
   "cell_type": "code",
   "execution_count": null,
   "metadata": {},
   "outputs": [],
   "source": []
  },
  {
   "cell_type": "markdown",
   "metadata": {},
   "source": [
    "### Tableau View Part"
   ]
  },
  {
   "cell_type": "code",
   "execution_count": 44,
   "metadata": {},
   "outputs": [
    {
     "data": {
      "text/html": [
       "<div>\n",
       "<style scoped>\n",
       "    .dataframe tbody tr th:only-of-type {\n",
       "        vertical-align: middle;\n",
       "    }\n",
       "\n",
       "    .dataframe tbody tr th {\n",
       "        vertical-align: top;\n",
       "    }\n",
       "\n",
       "    .dataframe thead th {\n",
       "        text-align: right;\n",
       "    }\n",
       "</style>\n",
       "<table border=\"1\" class=\"dataframe\">\n",
       "  <thead>\n",
       "    <tr style=\"text-align: right;\">\n",
       "      <th></th>\n",
       "      <th>SimpleDescription</th>\n",
       "      <th>Community</th>\n",
       "      <th>HouseType</th>\n",
       "      <th>HousePrice</th>\n",
       "      <th>Link</th>\n",
       "      <th>CityArea</th>\n",
       "      <th>Latitude</th>\n",
       "      <th>Longitude</th>\n",
       "      <th>AreaNew</th>\n",
       "      <th>FollowersNew</th>\n",
       "      <th>TimesWatchedNew</th>\n",
       "      <th>UnitPricePerMeterNew</th>\n",
       "      <th>ReleaseTimeNew</th>\n",
       "    </tr>\n",
       "  </thead>\n",
       "  <tbody>\n",
       "    <tr>\n",
       "      <th>21367</th>\n",
       "      <td>此房为独栋别墅，位于社区中间位置，前后不临街。</td>\n",
       "      <td>欧郡香水城</td>\n",
       "      <td>5室2厅</td>\n",
       "      <td>780.0</td>\n",
       "      <td>http://bj.lianjia.com/ershoufang/101100814429....</td>\n",
       "      <td>怀柔</td>\n",
       "      <td>116.682911</td>\n",
       "      <td>40.291404</td>\n",
       "      <td>343.97</td>\n",
       "      <td>62</td>\n",
       "      <td>3</td>\n",
       "      <td>22677.0</td>\n",
       "      <td>2个月前</td>\n",
       "    </tr>\n",
       "    <tr>\n",
       "      <th>21368</th>\n",
       "      <td>欧郡香水城 5室2厅 1150万</td>\n",
       "      <td>欧郡香水城</td>\n",
       "      <td>5室2厅</td>\n",
       "      <td>1150.0</td>\n",
       "      <td>http://bj.lianjia.com/ershoufang/101100967448....</td>\n",
       "      <td>怀柔</td>\n",
       "      <td>116.682911</td>\n",
       "      <td>40.291404</td>\n",
       "      <td>439.15</td>\n",
       "      <td>4</td>\n",
       "      <td>2</td>\n",
       "      <td>26187.0</td>\n",
       "      <td>1个月前</td>\n",
       "    </tr>\n",
       "  </tbody>\n",
       "</table>\n",
       "</div>"
      ],
      "text/plain": [
       "             SimpleDescription Community HouseType  HousePrice  \\\n",
       "21367  此房为独栋别墅，位于社区中间位置，前后不临街。    欧郡香水城       5室2厅       780.0   \n",
       "21368         欧郡香水城 5室2厅 1150万    欧郡香水城       5室2厅      1150.0   \n",
       "\n",
       "                                                    Link CityArea    Latitude  \\\n",
       "21367  http://bj.lianjia.com/ershoufang/101100814429....       怀柔  116.682911   \n",
       "21368  http://bj.lianjia.com/ershoufang/101100967448....       怀柔  116.682911   \n",
       "\n",
       "       Longitude  AreaNew  FollowersNew  TimesWatchedNew  \\\n",
       "21367  40.291404   343.97            62                3   \n",
       "21368  40.291404   439.15             4                2   \n",
       "\n",
       "       UnitPricePerMeterNew ReleaseTimeNew  \n",
       "21367               22677.0           2个月前  \n",
       "21368               26187.0           1个月前  "
      ]
     },
     "execution_count": 44,
     "metadata": {},
     "output_type": "execute_result"
    }
   ],
   "source": [
    "lianjia_data_clean[lianjia_data_clean['CityArea'] == '怀柔']\n",
    "# so huge house "
   ]
  },
  {
   "cell_type": "code",
   "execution_count": 45,
   "metadata": {},
   "outputs": [],
   "source": [
    "test = lianjia_data_clean.groupby(['CityArea', 'Community'])"
   ]
  },
  {
   "cell_type": "code",
   "execution_count": 46,
   "metadata": {},
   "outputs": [],
   "source": [
    "test1 = test['UnitPricePerMeterNew'].mean().sort_values(ascending=False).head(10)"
   ]
  },
  {
   "cell_type": "code",
   "execution_count": 47,
   "metadata": {},
   "outputs": [
    {
     "data": {
      "text/plain": [
       "CityArea  Community\n",
       "海淀        光大水墨风景       149961.0\n",
       "西城        兵马司胡同6号院     149885.0\n",
       "朝阳        红玺台          149862.0\n",
       "西城        新文化街四合院      149057.0\n",
       "          官园胡同         147475.0\n",
       "          小石桥胡同3号院     147278.0\n",
       "          佟麟阁路62号院     147084.0\n",
       "          新外大街28号院     147018.0\n",
       "          丰汇园小区        146830.0\n",
       "海淀        晴波园          146616.0\n",
       "Name: UnitPricePerMeterNew, dtype: float64"
      ]
     },
     "execution_count": 47,
     "metadata": {},
     "output_type": "execute_result"
    }
   ],
   "source": [
    "test1"
   ]
  },
  {
   "cell_type": "code",
   "execution_count": null,
   "metadata": {},
   "outputs": [],
   "source": []
  }
 ],
 "metadata": {
  "kernelspec": {
   "display_name": "Python 3",
   "language": "python",
   "name": "python3"
  },
  "language_info": {
   "codemirror_mode": {
    "name": "ipython",
    "version": 3
   },
   "file_extension": ".py",
   "mimetype": "text/x-python",
   "name": "python",
   "nbconvert_exporter": "python",
   "pygments_lexer": "ipython3",
   "version": "3.6.4"
  }
 },
 "nbformat": 4,
 "nbformat_minor": 2
}
